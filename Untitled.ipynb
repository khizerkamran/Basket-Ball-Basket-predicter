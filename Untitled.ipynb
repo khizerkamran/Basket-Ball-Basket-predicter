{
 "cells": [
  {
   "cell_type": "code",
   "execution_count": null,
   "id": "b1140079",
   "metadata": {},
   "outputs": [
    {
     "name": "stderr",
     "output_type": "stream",
     "text": [
      "c:\\users\\fazz communication\\appdata\\local\\programs\\python\\python38\\lib\\site-packages\\IPython\\core\\interactiveshell.py:3441: RankWarning: Polyfit may be poorly conditioned\n",
      "  exec(code_obj, self.user_global_ns, self.user_ns)\n",
      "c:\\users\\fazz communication\\appdata\\local\\programs\\python\\python38\\lib\\site-packages\\IPython\\core\\interactiveshell.py:3441: RankWarning: Polyfit may be poorly conditioned\n",
      "  exec(code_obj, self.user_global_ns, self.user_ns)\n"
     ]
    }
   ],
   "source": [
    "\n",
    "import math\n",
    "import cv2\n",
    "import cvzone\n",
    "from cvzone.ColorModule import ColorFinder\n",
    "import numpy as np\n",
    " \n",
    "# Initialize the Video\n",
    "cap = cv2.VideoCapture('Videos/vid (4).mp4')\n",
    " \n",
    "# Create the color Finder object\n",
    "myColorFinder = ColorFinder(False)\n",
    "hsvVals = {'hmin': 8, 'smin': 96, 'vmin': 115, 'hmax': 14, 'smax': 255, 'vmax': 255}\n",
    " \n",
    "# Variables\n",
    "posListX, posListY = [], []\n",
    "xList = [item for item in range(0, 1300)]\n",
    "prediction = False\n",
    " \n",
    "while True:\n",
    "    # Grab the image\n",
    " \n",
    "    success, img = cap.read()\n",
    "    # img = cv2.imread(\"Ball.png\")\n",
    "    img = img[0:900, :]\n",
    " \n",
    "    # Find the Color Ball\n",
    "    imgColor, mask = myColorFinder.update(img, hsvVals)\n",
    "    # Find location of the Ball\n",
    "    imgContours, contours = cvzone.findContours(img, mask, minArea=500)\n",
    " \n",
    "    if contours:\n",
    "        posListX.append(contours[0]['center'][0])\n",
    "        posListY.append(contours[0]['center'][1])\n",
    " \n",
    "    if posListX:\n",
    "        # Polynomial Regression y = Ax^2 + Bx + C\n",
    "        # Find the Coefficients\n",
    "        A, B, C = np.polyfit(posListX, posListY, 2)\n",
    " \n",
    "        for i, (posX, posY) in enumerate(zip(posListX, posListY)):\n",
    "            pos = (posX, posY)\n",
    "            cv2.circle(imgContours, pos, 10, (0, 255, 0), cv2.FILLED)\n",
    "            if i == 0:\n",
    "                cv2.line(imgContours, pos, pos, (0, 255, 0), 5)\n",
    "            else:\n",
    "                cv2.line(imgContours, pos, (posListX[i - 1], posListY[i - 1]), (0, 255, 0), 5)\n",
    " \n",
    "        for x in xList:\n",
    "            y = int(A * x ** 2 + B * x + C)\n",
    "            cv2.circle(imgContours, (x, y), 2, (255, 0, 255), cv2.FILLED)\n",
    " \n",
    "        if len(posListX) < 10:\n",
    "            # Prediction\n",
    "            # X values 330 to 430  Y 590\n",
    "            a = A\n",
    "            b = B\n",
    "            c = C - 590\n",
    " \n",
    "            x = int((-b - math.sqrt(b ** 2 - (4 * a * c))) / (2 * a))\n",
    "            prediction = 330 < x < 430\n",
    " \n",
    "        if prediction:\n",
    "            cvzone.putTextRect(imgContours, \"Basket\", (50, 150),\n",
    "                               scale=5, thickness=5, colorR=(0, 200, 0), offset=20)\n",
    "        else:\n",
    "            cvzone.putTextRect(imgContours, \"No Basket\", (50, 150),\n",
    "                               scale=5, thickness=5, colorR=(0, 0, 200), offset=20)\n",
    " \n",
    "    # Display\n",
    "    imgContours = cv2.resize(imgContours, (0, 0), None, 0.7, 0.7)\n",
    "    # cv2.imshow(\"Image\", img)\n",
    "    cv2.imshow(\"ImageColor\", imgContours)\n",
    "    cv2.waitKey(100)"
   ]
  },
  {
   "cell_type": "code",
   "execution_count": null,
   "id": "4c58e208",
   "metadata": {},
   "outputs": [],
   "source": []
  }
 ],
 "metadata": {
  "kernelspec": {
   "display_name": "Python 3",
   "language": "python",
   "name": "python3"
  },
  "language_info": {
   "codemirror_mode": {
    "name": "ipython",
    "version": 3
   },
   "file_extension": ".py",
   "mimetype": "text/x-python",
   "name": "python",
   "nbconvert_exporter": "python",
   "pygments_lexer": "ipython3",
   "version": "3.8.7"
  }
 },
 "nbformat": 4,
 "nbformat_minor": 5
}
